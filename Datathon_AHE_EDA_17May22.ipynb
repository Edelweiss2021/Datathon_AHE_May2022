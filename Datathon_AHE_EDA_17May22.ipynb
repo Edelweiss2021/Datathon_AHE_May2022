{
 "cells": [
  {
   "cell_type": "markdown",
   "id": "93e7e1e8",
   "metadata": {},
   "source": [
    "## <p style=\"background-color:#9d4f8c; font-family:newtimeroman; color:#FFF9ED; font-size:175%; text-align:center; border-radius:10px 10px;\">Exploratory Data Analysis - Anadolu Hayat Emeklilik Datathon (May 2022)</p>"
   ]
  },
  {
   "cell_type": "code",
   "execution_count": 1,
   "id": "22509cd8",
   "metadata": {},
   "outputs": [],
   "source": [
    "import numpy as np\n",
    "import pandas as pd\n",
    "import matplotlib.pyplot as plt\n",
    "from matplotlib import style\n",
    "import seaborn as sns\n",
    "%matplotlib inline"
   ]
  },
  {
   "cell_type": "code",
   "execution_count": 2,
   "id": "4f5b09b6",
   "metadata": {},
   "outputs": [],
   "source": [
    "df = pd.read_csv(\"train-utf8.csv\")"
   ]
  },
  {
   "cell_type": "markdown",
   "id": "217c123c",
   "metadata": {},
   "source": [
    "## <p style=\"background-color:#9d4f8c; font-family:newtimeroman; color:#FFF9ED; font-size:175%; text-align:center; border-radius:10px 10px;\">Overview</p>"
   ]
  },
  {
   "cell_type": "code",
   "execution_count": 3,
   "id": "89d4485b",
   "metadata": {},
   "outputs": [
    {
     "data": {
      "text/html": [
       "<div>\n",
       "<style scoped>\n",
       "    .dataframe tbody tr th:only-of-type {\n",
       "        vertical-align: middle;\n",
       "    }\n",
       "\n",
       "    .dataframe tbody tr th {\n",
       "        vertical-align: top;\n",
       "    }\n",
       "\n",
       "    .dataframe thead th {\n",
       "        text-align: right;\n",
       "    }\n",
       "</style>\n",
       "<table border=\"1\" class=\"dataframe\">\n",
       "  <thead>\n",
       "    <tr style=\"text-align: right;\">\n",
       "      <th></th>\n",
       "      <th>POLICY_ID</th>\n",
       "      <th>OFFICE_ID</th>\n",
       "      <th>SIGORTA_TIP</th>\n",
       "      <th>SOZLESME_KOKENI</th>\n",
       "      <th>SOZLESME_KOKENI_DETAY</th>\n",
       "      <th>BASLANGIC_TARIHI</th>\n",
       "      <th>KAPSAM_TIPI</th>\n",
       "      <th>KAPSAM_GRUBU</th>\n",
       "      <th>DAGITIM_KANALI</th>\n",
       "      <th>POLICE_SEHIR</th>\n",
       "      <th>...</th>\n",
       "      <th>EYLUL_VADE_TUTARI</th>\n",
       "      <th>EKIM_ODENEN_TUTAR</th>\n",
       "      <th>EKIM_VADE_TUTARI</th>\n",
       "      <th>KASIM_ODENEN_TUTAR</th>\n",
       "      <th>KASIM_VADE_TUTARI</th>\n",
       "      <th>ARALIK_ODENEN_TUTAR</th>\n",
       "      <th>ARALIK_VADE_TUTARI</th>\n",
       "      <th>SENE_BASI_HESAP_DEGERI</th>\n",
       "      <th>SENE_SONU_HESAP_DEGERI</th>\n",
       "      <th>ARTIS_DURUMU</th>\n",
       "    </tr>\n",
       "  </thead>\n",
       "  <tbody>\n",
       "    <tr>\n",
       "      <th>0</th>\n",
       "      <td>7203428</td>\n",
       "      <td>10099</td>\n",
       "      <td>7</td>\n",
       "      <td>NEW</td>\n",
       "      <td>NEW</td>\n",
       "      <td>2014-04</td>\n",
       "      <td>PENSION318</td>\n",
       "      <td>STD BİREYSEL</td>\n",
       "      <td>Kanal7</td>\n",
       "      <td>ESKİŞEHİR</td>\n",
       "      <td>...</td>\n",
       "      <td>220.0</td>\n",
       "      <td>220</td>\n",
       "      <td>220.0</td>\n",
       "      <td>220</td>\n",
       "      <td>220.0</td>\n",
       "      <td>220</td>\n",
       "      <td>220.0</td>\n",
       "      <td>15248.75</td>\n",
       "      <td>25684.25</td>\n",
       "      <td>0</td>\n",
       "    </tr>\n",
       "    <tr>\n",
       "      <th>1</th>\n",
       "      <td>2857821</td>\n",
       "      <td>10100</td>\n",
       "      <td>7</td>\n",
       "      <td>NEW</td>\n",
       "      <td>NEW</td>\n",
       "      <td>2016-09</td>\n",
       "      <td>PENSION419</td>\n",
       "      <td>KATILIM STD BİREYSEL</td>\n",
       "      <td>Kanal4 + Kanal2</td>\n",
       "      <td>BALIKESİR</td>\n",
       "      <td>...</td>\n",
       "      <td>160.0</td>\n",
       "      <td>160</td>\n",
       "      <td>160.0</td>\n",
       "      <td>160</td>\n",
       "      <td>160.0</td>\n",
       "      <td>160</td>\n",
       "      <td>160.0</td>\n",
       "      <td>5842.71</td>\n",
       "      <td>10104.56</td>\n",
       "      <td>0</td>\n",
       "    </tr>\n",
       "    <tr>\n",
       "      <th>2</th>\n",
       "      <td>7833031</td>\n",
       "      <td>10042</td>\n",
       "      <td>1</td>\n",
       "      <td>NEW</td>\n",
       "      <td>NEW</td>\n",
       "      <td>2016-07</td>\n",
       "      <td>PENSION250</td>\n",
       "      <td>EV HANIMI</td>\n",
       "      <td>Kanal4 + Kanal2</td>\n",
       "      <td>BALIKESİR</td>\n",
       "      <td>...</td>\n",
       "      <td>256.0</td>\n",
       "      <td>256</td>\n",
       "      <td>256.0</td>\n",
       "      <td>256</td>\n",
       "      <td>256.0</td>\n",
       "      <td>256</td>\n",
       "      <td>256.0</td>\n",
       "      <td>3782.86</td>\n",
       "      <td>7060.94</td>\n",
       "      <td>0</td>\n",
       "    </tr>\n",
       "    <tr>\n",
       "      <th>3</th>\n",
       "      <td>4474944</td>\n",
       "      <td>10056</td>\n",
       "      <td>7</td>\n",
       "      <td>NEW</td>\n",
       "      <td>NEW</td>\n",
       "      <td>2014-09</td>\n",
       "      <td>PENSION434</td>\n",
       "      <td>KATILIM GRUP</td>\n",
       "      <td>Kanal4 + Kanal2</td>\n",
       "      <td>SAMSUN</td>\n",
       "      <td>...</td>\n",
       "      <td>150.0</td>\n",
       "      <td>150</td>\n",
       "      <td>150.0</td>\n",
       "      <td>150</td>\n",
       "      <td>150.0</td>\n",
       "      <td>150</td>\n",
       "      <td>150.0</td>\n",
       "      <td>6855.03</td>\n",
       "      <td>12645.25</td>\n",
       "      <td>0</td>\n",
       "    </tr>\n",
       "    <tr>\n",
       "      <th>4</th>\n",
       "      <td>4660085</td>\n",
       "      <td>10068</td>\n",
       "      <td>7</td>\n",
       "      <td>NEW</td>\n",
       "      <td>NEW</td>\n",
       "      <td>2008-04</td>\n",
       "      <td>PENSION100</td>\n",
       "      <td>STD GRUP</td>\n",
       "      <td>Kanal4 + Kanal2</td>\n",
       "      <td>İSTANBUL</td>\n",
       "      <td>...</td>\n",
       "      <td>100.0</td>\n",
       "      <td>100</td>\n",
       "      <td>100.0</td>\n",
       "      <td>100</td>\n",
       "      <td>100.0</td>\n",
       "      <td>100</td>\n",
       "      <td>100.0</td>\n",
       "      <td>27837.75</td>\n",
       "      <td>31613.07</td>\n",
       "      <td>0</td>\n",
       "    </tr>\n",
       "  </tbody>\n",
       "</table>\n",
       "<p>5 rows × 49 columns</p>\n",
       "</div>"
      ],
      "text/plain": [
       "   POLICY_ID  OFFICE_ID  SIGORTA_TIP SOZLESME_KOKENI SOZLESME_KOKENI_DETAY  \\\n",
       "0    7203428      10099            7             NEW                   NEW   \n",
       "1    2857821      10100            7             NEW                   NEW   \n",
       "2    7833031      10042            1             NEW                   NEW   \n",
       "3    4474944      10056            7             NEW                   NEW   \n",
       "4    4660085      10068            7             NEW                   NEW   \n",
       "\n",
       "  BASLANGIC_TARIHI KAPSAM_TIPI          KAPSAM_GRUBU   DAGITIM_KANALI  \\\n",
       "0          2014-04  PENSION318          STD BİREYSEL           Kanal7   \n",
       "1          2016-09  PENSION419  KATILIM STD BİREYSEL  Kanal4 + Kanal2   \n",
       "2          2016-07  PENSION250             EV HANIMI  Kanal4 + Kanal2   \n",
       "3          2014-09  PENSION434          KATILIM GRUP  Kanal4 + Kanal2   \n",
       "4          2008-04  PENSION100              STD GRUP  Kanal4 + Kanal2   \n",
       "\n",
       "  POLICE_SEHIR  ...  EYLUL_VADE_TUTARI  EKIM_ODENEN_TUTAR EKIM_VADE_TUTARI  \\\n",
       "0    ESKİŞEHİR  ...              220.0                220            220.0   \n",
       "1    BALIKESİR  ...              160.0                160            160.0   \n",
       "2    BALIKESİR  ...              256.0                256            256.0   \n",
       "3       SAMSUN  ...              150.0                150            150.0   \n",
       "4     İSTANBUL  ...              100.0                100            100.0   \n",
       "\n",
       "   KASIM_ODENEN_TUTAR KASIM_VADE_TUTARI ARALIK_ODENEN_TUTAR  \\\n",
       "0                 220             220.0                 220   \n",
       "1                 160             160.0                 160   \n",
       "2                 256             256.0                 256   \n",
       "3                 150             150.0                 150   \n",
       "4                 100             100.0                 100   \n",
       "\n",
       "   ARALIK_VADE_TUTARI SENE_BASI_HESAP_DEGERI SENE_SONU_HESAP_DEGERI  \\\n",
       "0               220.0               15248.75               25684.25   \n",
       "1               160.0                5842.71               10104.56   \n",
       "2               256.0                3782.86                7060.94   \n",
       "3               150.0                6855.03               12645.25   \n",
       "4               100.0               27837.75               31613.07   \n",
       "\n",
       "  ARTIS_DURUMU  \n",
       "0            0  \n",
       "1            0  \n",
       "2            0  \n",
       "3            0  \n",
       "4            0  \n",
       "\n",
       "[5 rows x 49 columns]"
      ]
     },
     "execution_count": 3,
     "metadata": {},
     "output_type": "execute_result"
    }
   ],
   "source": [
    "df.head()"
   ]
  },
  {
   "cell_type": "code",
   "execution_count": 17,
   "id": "e98b19a4",
   "metadata": {},
   "outputs": [
    {
     "name": "stdout",
     "output_type": "stream",
     "text": [
      "<class 'pandas.core.frame.DataFrame'>\n",
      "RangeIndex: 634112 entries, 0 to 634111\n",
      "Data columns (total 49 columns):\n",
      " #   Column                  Non-Null Count   Dtype  \n",
      "---  ------                  --------------   -----  \n",
      " 0   POLICY_ID               634112 non-null  int64  \n",
      " 1   OFFICE_ID               634112 non-null  int64  \n",
      " 2   SIGORTA_TIP             634112 non-null  int64  \n",
      " 3   SOZLESME_KOKENI         634112 non-null  object \n",
      " 4   SOZLESME_KOKENI_DETAY   627896 non-null  object \n",
      " 5   BASLANGIC_TARIHI        634112 non-null  object \n",
      " 6   KAPSAM_TIPI             634112 non-null  object \n",
      " 7   KAPSAM_GRUBU            634112 non-null  object \n",
      " 8   DAGITIM_KANALI          634106 non-null  object \n",
      " 9   POLICE_SEHIR            632176 non-null  object \n",
      " 10  DOGUM_TARIHI            634112 non-null  int64  \n",
      " 11  CINSIYET                634112 non-null  int64  \n",
      " 12  UYRUK                   634001 non-null  object \n",
      " 13  MEMLEKET                634112 non-null  int64  \n",
      " 14  MESLEK                  567252 non-null  object \n",
      " 15  MESLEK_KIRILIM          564974 non-null  object \n",
      " 16  MUSTERI_SEGMENTI        634109 non-null  float64\n",
      " 17  YATIRIM_KARAKTERI       75859 non-null   object \n",
      " 18  MEDENI_HAL              630913 non-null  object \n",
      " 19  EGITIM_DURUM            484317 non-null  object \n",
      " 20  GELIR                   556468 non-null  object \n",
      " 21  COCUK_SAYISI            516004 non-null  float64\n",
      " 22  OCAK_ODENEN_TUTAR       634112 non-null  int64  \n",
      " 23  OCAK_VADE_TUTARI        634112 non-null  float64\n",
      " 24  SUBAT_ODENEN_TU         634112 non-null  int64  \n",
      " 25  SUBAT_VADE_TUTARI       634112 non-null  float64\n",
      " 26  MART_ODENEN_TUTAR       634112 non-null  int64  \n",
      " 27  MART_VADE_TUTARI        634112 non-null  float64\n",
      " 28  NISAN_ODENEN_TUTAR      634112 non-null  int64  \n",
      " 29  NISAN_VADE_TUTARI       634112 non-null  float64\n",
      " 30  MAYIS_ODENEN_TUTAR      634112 non-null  int64  \n",
      " 31  MAYIS_VADE_TUTARI       634112 non-null  float64\n",
      " 32  HAZIRAN_ODENEN_TUTAR    634112 non-null  int64  \n",
      " 33  HAZIRAN_VADE_TUTARI     634112 non-null  float64\n",
      " 34  TEMMUZ_ODENEN_TUTAR     634112 non-null  int64  \n",
      " 35  TEMMUZ_VADE_TUTARI      634112 non-null  float64\n",
      " 36  AGUSTOS_ODENEN_TUTAR    634112 non-null  int64  \n",
      " 37  AGUSTOS_VADE_TUTARI     634112 non-null  float64\n",
      " 38  EYLUL_ODENEN_TUTAR      634112 non-null  int64  \n",
      " 39  EYLUL_VADE_TUTARI       634112 non-null  float64\n",
      " 40  EKIM_ODENEN_TUTAR       634112 non-null  int64  \n",
      " 41  EKIM_VADE_TUTARI        634112 non-null  float64\n",
      " 42  KASIM_ODENEN_TUTAR      634112 non-null  int64  \n",
      " 43  KASIM_VADE_TUTARI       634112 non-null  float64\n",
      " 44  ARALIK_ODENEN_TUTAR     634112 non-null  int64  \n",
      " 45  ARALIK_VADE_TUTARI      634112 non-null  float64\n",
      " 46  SENE_BASI_HESAP_DEGERI  634112 non-null  float64\n",
      " 47  SENE_SONU_HESAP_DEGERI  634112 non-null  float64\n",
      " 48  ARTIS_DURUMU            634112 non-null  int64  \n",
      "dtypes: float64(16), int64(19), object(14)\n",
      "memory usage: 237.1+ MB\n"
     ]
    }
   ],
   "source": [
    "df.info()"
   ]
  },
  {
   "cell_type": "code",
   "execution_count": 4,
   "id": "4bb34f3f",
   "metadata": {},
   "outputs": [
    {
     "data": {
      "text/plain": [
       "POLICY_ID                      0\n",
       "OFFICE_ID                      0\n",
       "SIGORTA_TIP                    0\n",
       "SOZLESME_KOKENI                0\n",
       "SOZLESME_KOKENI_DETAY       6216\n",
       "BASLANGIC_TARIHI               0\n",
       "KAPSAM_TIPI                    0\n",
       "KAPSAM_GRUBU                   0\n",
       "DAGITIM_KANALI                 6\n",
       "POLICE_SEHIR                1936\n",
       "DOGUM_TARIHI                   0\n",
       "CINSIYET                       0\n",
       "UYRUK                        111\n",
       "MEMLEKET                       0\n",
       "MESLEK                     66860\n",
       "MESLEK_KIRILIM             69138\n",
       "MUSTERI_SEGMENTI               3\n",
       "YATIRIM_KARAKTERI         558253\n",
       "MEDENI_HAL                  3199\n",
       "EGITIM_DURUM              149795\n",
       "GELIR                      77644\n",
       "COCUK_SAYISI              118108\n",
       "OCAK_ODENEN_TUTAR              0\n",
       "OCAK_VADE_TUTARI               0\n",
       "SUBAT_ODENEN_TU                0\n",
       "SUBAT_VADE_TUTARI              0\n",
       "MART_ODENEN_TUTAR              0\n",
       "MART_VADE_TUTARI               0\n",
       "NISAN_ODENEN_TUTAR             0\n",
       "NISAN_VADE_TUTARI              0\n",
       "MAYIS_ODENEN_TUTAR             0\n",
       "MAYIS_VADE_TUTARI              0\n",
       "HAZIRAN_ODENEN_TUTAR           0\n",
       "HAZIRAN_VADE_TUTARI            0\n",
       "TEMMUZ_ODENEN_TUTAR            0\n",
       "TEMMUZ_VADE_TUTARI             0\n",
       "AGUSTOS_ODENEN_TUTAR           0\n",
       "AGUSTOS_VADE_TUTARI            0\n",
       "EYLUL_ODENEN_TUTAR             0\n",
       "EYLUL_VADE_TUTARI              0\n",
       "EKIM_ODENEN_TUTAR              0\n",
       "EKIM_VADE_TUTARI               0\n",
       "KASIM_ODENEN_TUTAR             0\n",
       "KASIM_VADE_TUTARI              0\n",
       "ARALIK_ODENEN_TUTAR            0\n",
       "ARALIK_VADE_TUTARI             0\n",
       "SENE_BASI_HESAP_DEGERI         0\n",
       "SENE_SONU_HESAP_DEGERI         0\n",
       "ARTIS_DURUMU                   0\n",
       "dtype: int64"
      ]
     },
     "execution_count": 4,
     "metadata": {},
     "output_type": "execute_result"
    }
   ],
   "source": [
    "df.isnull().sum()"
   ]
  },
  {
   "cell_type": "markdown",
   "id": "30189b80",
   "metadata": {},
   "source": [
    "## <p style=\"background-color:#9d4f8c; font-family:newtimeroman; color:#FFF9ED; font-size:175%; text-align:center; border-radius:10px 10px;\">SIGORTA_TIP</p>\n",
    "\n",
    "**SIGORTA_TIP**: Ürünlerin tipini verir:\n",
    "\n",
    "    1: Ferdi BES\n",
    "    4: Vasa Ferdi BES : Vakıf Sandık Bireysel Emeklilik Sistemi\n",
    "    6: IGES : İşveren Grup Emeklilik Sistemi\n",
    "    7: GBBES : Gruba Bağlı Bireysel Emeklilik Sistemi\n",
    "    8: OKS : Otomatik Katılım Sistemi"
   ]
  },
  {
   "cell_type": "code",
   "execution_count": 29,
   "id": "b3cc985b",
   "metadata": {},
   "outputs": [
    {
     "data": {
      "text/plain": [
       "1    469399\n",
       "7    150678\n",
       "6     12415\n",
       "8       873\n",
       "4       747\n",
       "Name: SIGORTA_TIP, dtype: int64"
      ]
     },
     "execution_count": 29,
     "metadata": {},
     "output_type": "execute_result"
    }
   ],
   "source": [
    "df.SIGORTA_TIP.value_counts()"
   ]
  },
  {
   "cell_type": "code",
   "execution_count": 37,
   "id": "e0f76190",
   "metadata": {},
   "outputs": [
    {
     "data": {
      "text/plain": [
       "0"
      ]
     },
     "execution_count": 37,
     "metadata": {},
     "output_type": "execute_result"
    }
   ],
   "source": [
    "df.SIGORTA_TIP.isnull().sum()"
   ]
  },
  {
   "cell_type": "code",
   "execution_count": 32,
   "id": "80ecfc4f",
   "metadata": {},
   "outputs": [
    {
     "data": {
      "image/png": "[encoded data removed]",
      "text/plain": [
       "<Figure size 432x288 with 1 Axes>"
      ]
     },
     "metadata": {
      "needs_background": "light"
     },
     "output_type": "display_data"
    }
   ],
   "source": [
    "sns.histplot(x=\"SIGORTA_TIP\", data=df, bins=10);"
   ]
  },
  {
   "cell_type": "markdown",
   "id": "7afaebef",
   "metadata": {},
   "source": [
    "## <p style=\"background-color:#9d4f8c; font-family:newtimeroman; color:#FFF9ED; font-size:175%; text-align:center; border-radius:10px 10px;\">SOZLESME_KOKENI</p>\n",
    "\n",
    "**SOZLESME_KOKENI**: Sözleşmenin yeni sözleşme mi yoksa aktarım yapılmış sözleşme mi olduğu bilgisini verir.\n",
    "\n",
    "    NEW: Yeni Sözleşme\n",
    "    TRANS_L: Hayat poliçesinden aktarım.\n",
    "    TRANS_C: Başka şirketten aktarım.\n",
    "    TRANS : Kullanıcı tarafından hatalı giriş olan kayıtlar, TRANS değerini TRANS_C olarak düşünebilirsiniz.\n",
    "    TRANS_TF: Güven fonundan aktarım."
   ]
  },
  {
   "cell_type": "code",
   "execution_count": 33,
   "id": "31c8ce9d",
   "metadata": {},
   "outputs": [
    {
     "data": {
      "text/plain": [
       "NEW         620214\n",
       "TRANS_C      12373\n",
       "TRANS_L        808\n",
       "TRANS_TF       716\n",
       "TRANS            1\n",
       "Name: SOZLESME_KOKENI, dtype: int64"
      ]
     },
     "execution_count": 33,
     "metadata": {},
     "output_type": "execute_result"
    }
   ],
   "source": [
    "df.SOZLESME_KOKENI.value_counts()"
   ]
  },
  {
   "cell_type": "code",
   "execution_count": 38,
   "id": "73bd974b",
   "metadata": {},
   "outputs": [
    {
     "data": {
      "text/plain": [
       "0"
      ]
     },
     "execution_count": 38,
     "metadata": {},
     "output_type": "execute_result"
    }
   ],
   "source": [
    "df.SOZLESME_KOKENI.isnull().sum()"
   ]
  },
  {
   "cell_type": "code",
   "execution_count": 36,
   "id": "5c3d6b3e",
   "metadata": {},
   "outputs": [
    {
     "data": {
      "image/png": "[encoded data removed]",
      "text/plain": [
       "<Figure size 432x288 with 1 Axes>"
      ]
     },
     "metadata": {
      "needs_background": "light"
     },
     "output_type": "display_data"
    }
   ],
   "source": [
    "sns.histplot(x=\"SOZLESME_KOKENI\", data=df, bins=5);"
   ]
  },
  {
   "cell_type": "markdown",
   "id": "02b2b29a",
   "metadata": {},
   "source": [
    "## <p style=\"background-color:#9d4f8c; font-family:newtimeroman; color:#FFF9ED; font-size:175%; text-align:center; border-radius:10px 10px;\">SOZLESME_DETAY_KOKENI</p>\n",
    "**SOZLESME_DETAY_KOKENI**:Sözleşmenin kökeninin detay bilgisini verir.\n",
    "\n",
    "    NEW_MRG: Sözleşme üzerinde Birleştirme Yapılmış.\n",
    "    NEW_TR: Şirket İçinden Aktarılmış.\n",
    "    NEW: Yeni sözleşme\n",
    "    TRANS_MRG: Sözleşme üzerinde Birleştirme Yapılmış.\n",
    "    TRANS_T2: Farklı Şirketten Üzerine Aktarım Yapılmış.\n",
    "    TRANS_TR: Farklı Şirketten Aktarılmış.\n",
    "    TRANS: Transfer yoluyla gelen sözleşme.\n",
    "    TRANS_C: Farklı şirketten aktarılmış.\n",
    "    TR_T2_MRG: Sözleşme üzerinde Birleştirme Yapılmış.\n",
    "    TR_T2_TR: Üzerine Aktarım Yapılmış.\n",
    "    INV_PROC: Sözleşme kökeni bulunamadığında atanan değer, NEW olarak düşünülebilir."
   ]
  },
  {
   "cell_type": "code",
   "execution_count": 39,
   "id": "442e733f",
   "metadata": {},
   "outputs": [
    {
     "data": {
      "text/plain": [
       "NEW          612898\n",
       "TRANS         10740\n",
       "TRANS_TR       2253\n",
       "NEW_MRG        1625\n",
       "INV_PROC        299\n",
       "TRANS_MRG        48\n",
       "NEW_TR           17\n",
       "TRANS_T2         10\n",
       "TR_T2_TR          5\n",
       "TRANS_C           1\n",
       "Name: SOZLESME_KOKENI_DETAY, dtype: int64"
      ]
     },
     "execution_count": 39,
     "metadata": {},
     "output_type": "execute_result"
    }
   ],
   "source": [
    "df.SOZLESME_KOKENI_DETAY.value_counts()"
   ]
  },
  {
   "cell_type": "code",
   "execution_count": 40,
   "id": "5a9a0a4f",
   "metadata": {},
   "outputs": [
    {
     "data": {
      "text/plain": [
       "6216"
      ]
     },
     "execution_count": 40,
     "metadata": {},
     "output_type": "execute_result"
    }
   ],
   "source": [
    "df.SOZLESME_KOKENI_DETAY.isnull().sum()"
   ]
  },
  {
   "cell_type": "code",
   "execution_count": 41,
   "id": "0901c646",
   "metadata": {},
   "outputs": [
    {
     "data": {
      "image/png": "[encoded data removed]",
      "text/plain": [
       "<Figure size 432x288 with 1 Axes>"
      ]
     },
     "metadata": {
      "needs_background": "light"
     },
     "output_type": "display_data"
    }
   ],
   "source": [
    "sns.histplot(x=\"SOZLESME_KOKENI_DETAY\", data=df, bins=5);"
   ]
  },
  {
   "cell_type": "markdown",
   "id": "93f5e619",
   "metadata": {},
   "source": [
    "## <p style=\"background-color:#9d4f8c; font-family:newtimeroman; color:#FFF9ED; font-size:175%; text-align:center; border-radius:10px 10px;\">BASLANGIC_TARIHI</p>\n",
    "**BASLANGIC_TARIHI**: Sözleşmenin başlangıç tarihini verir."
   ]
  },
  {
   "cell_type": "code",
   "execution_count": 42,
   "id": "a9c20d3a",
   "metadata": {},
   "outputs": [
    {
     "data": {
      "text/plain": [
       "2019-12    11509\n",
       "2015-12     9840\n",
       "2015-07     8017\n",
       "2015-06     7656\n",
       "2016-01     7619\n",
       "           ...  \n",
       "2004-01      205\n",
       "2004-04      203\n",
       "2004-02      173\n",
       "2003-11       87\n",
       "2003-10       14\n",
       "Name: BASLANGIC_TARIHI, Length: 195, dtype: int64"
      ]
     },
     "execution_count": 42,
     "metadata": {},
     "output_type": "execute_result"
    }
   ],
   "source": [
    "df.BASLANGIC_TARIHI.value_counts()"
   ]
  },
  {
   "cell_type": "code",
   "execution_count": 49,
   "id": "54d5aee7",
   "metadata": {},
   "outputs": [
    {
     "data": {
      "text/plain": [
       "0        2014-04-01\n",
       "1        2016-09-01\n",
       "2        2016-07-01\n",
       "3        2014-09-01\n",
       "4        2008-04-01\n",
       "            ...    \n",
       "634107   2012-04-01\n",
       "634108   2014-10-01\n",
       "634109   2013-03-01\n",
       "634110   2014-05-01\n",
       "634111   2014-12-01\n",
       "Name: BASLANGIC_TARIHI, Length: 634112, dtype: datetime64[ns]"
      ]
     },
     "execution_count": 49,
     "metadata": {},
     "output_type": "execute_result"
    }
   ],
   "source": [
    "pd.to_datetime(df.BASLANGIC_TARIHI)"
   ]
  },
  {
   "cell_type": "code",
   "execution_count": 43,
   "id": "752bda98",
   "metadata": {},
   "outputs": [
    {
     "data": {
      "text/plain": [
       "0"
      ]
     },
     "execution_count": 43,
     "metadata": {},
     "output_type": "execute_result"
    }
   ],
   "source": [
    "df.BASLANGIC_TARIHI.isnull().sum()"
   ]
  },
  {
   "cell_type": "code",
   "execution_count": 51,
   "id": "6eda60ce",
   "metadata": {},
   "outputs": [
    {
     "data": {
      "image/png": "[encoded data removed]",
      "text/plain": [
       "<Figure size 432x288 with 1 Axes>"
      ]
     },
     "metadata": {
      "needs_background": "light"
     },
     "output_type": "display_data"
    }
   ],
   "source": [
    "sns.histplot(x=\"BASLANGIC_TARIHI\", data=df, bins=10);"
   ]
  },
  {
   "cell_type": "markdown",
   "id": "86f6c941",
   "metadata": {},
   "source": [
    "## <p style=\"background-color:#9d4f8c; font-family:newtimeroman; color:#FFF9ED; font-size:175%; text-align:center; border-radius:10px 10px;\">KAPSAM_TIPI</p>\n",
    "**KAPSAM_TIPI**: Sözleşmenin ait olduğu ürün planını verir."
   ]
  },
  {
   "cell_type": "code",
   "execution_count": 52,
   "id": "1aea703d",
   "metadata": {},
   "outputs": [
    {
     "data": {
      "text/plain": [
       "PENSION247    66416\n",
       "PENSION215    57983\n",
       "PENSION251    52236\n",
       "PENSION001    46419\n",
       "PENSION059    45527\n",
       "              ...  \n",
       "PENSION014        1\n",
       "PENSION156        1\n",
       "PENSION009        1\n",
       "PENSION192        1\n",
       "PENSION363        1\n",
       "Name: KAPSAM_TIPI, Length: 239, dtype: int64"
      ]
     },
     "execution_count": 52,
     "metadata": {},
     "output_type": "execute_result"
    }
   ],
   "source": [
    "df.KAPSAM_TIPI.value_counts()"
   ]
  },
  {
   "cell_type": "code",
   "execution_count": 53,
   "id": "de0bfb2a",
   "metadata": {},
   "outputs": [
    {
     "data": {
      "text/plain": [
       "0"
      ]
     },
     "execution_count": 53,
     "metadata": {},
     "output_type": "execute_result"
    }
   ],
   "source": [
    "df.KAPSAM_TIPI.isnull().sum()"
   ]
  },
  {
   "cell_type": "code",
   "execution_count": 56,
   "id": "b21aa9cd",
   "metadata": {},
   "outputs": [
    {
     "data": {
      "image/png": "[encoded data removed]",
      "text/plain": [
       "<Figure size 432x288 with 1 Axes>"
      ]
     },
     "metadata": {
      "needs_background": "light"
     },
     "output_type": "display_data"
    }
   ],
   "source": [
    "sns.histplot(x=\"KAPSAM_TIPI\", data=df, bins=100);"
   ]
  },
  {
   "cell_type": "markdown",
   "id": "94d5b4f9",
   "metadata": {},
   "source": [
    "## <p style=\"background-color:#9d4f8c; font-family:newtimeroman; color:#FFF9ED; font-size:175%; text-align:center; border-radius:10px 10px;\">KAPSAM_GRUBU</p>\n",
    "**KAPSAM_GRUBU**: Sözleşmenin ürün planının dahil olduğu grup."
   ]
  },
  {
   "cell_type": "code",
   "execution_count": 57,
   "id": "7032d8fe",
   "metadata": {},
   "outputs": [
    {
     "data": {
      "text/plain": [
       "GRUPLANMAMIŞ            359968\n",
       "STD GRUP                 82156\n",
       "STD BİREYSEL             67948\n",
       "EV HANIMI                65287\n",
       "GENÇ                     51138\n",
       "KATILIM STD BİREYSEL      2647\n",
       "GRUP                      2221\n",
       "İGES STD GRUP             1499\n",
       "OKS                        873\n",
       "KATILIM GRUP               375\n",
       "Name: KAPSAM_GRUBU, dtype: int64"
      ]
     },
     "execution_count": 57,
     "metadata": {},
     "output_type": "execute_result"
    }
   ],
   "source": [
    "df.KAPSAM_GRUBU.value_counts()"
   ]
  },
  {
   "cell_type": "code",
   "execution_count": 58,
   "id": "cfcc32ee",
   "metadata": {},
   "outputs": [
    {
     "data": {
      "text/plain": [
       "0"
      ]
     },
     "execution_count": 58,
     "metadata": {},
     "output_type": "execute_result"
    }
   ],
   "source": [
    "df.KAPSAM_GRUBU.isnull().sum()"
   ]
  },
  {
   "cell_type": "code",
   "execution_count": 59,
   "id": "cd4f5ede",
   "metadata": {},
   "outputs": [
    {
     "data": {
      "image/png": "[encoded data removed]",
      "text/plain": [
       "<Figure size 432x288 with 1 Axes>"
      ]
     },
     "metadata": {
      "needs_background": "light"
     },
     "output_type": "display_data"
    }
   ],
   "source": [
    "sns.histplot(x=\"KAPSAM_GRUBU\", data=df);"
   ]
  },
  {
   "cell_type": "markdown",
   "id": "a63c7a75",
   "metadata": {},
   "source": [
    "## <p style=\"background-color:#9d4f8c; font-family:newtimeroman; color:#FFF9ED; font-size:175%; text-align:center; border-radius:10px 10px;\">DAGITIM_KANALI</p>\n",
    "**DAGITIM_KANALI**: Sözleşmenin satışının yapıldığı kanalın ismi."
   ]
  },
  {
   "cell_type": "code",
   "execution_count": 60,
   "id": "bad1b986",
   "metadata": {},
   "outputs": [
    {
     "data": {
      "text/plain": [
       "Kanal4 + Kanal2    456132\n",
       "Tele Kanal          44665\n",
       "Kanal1 + Kanal2     39041\n",
       "Kanal6              30970\n",
       "Kanal1              28272\n",
       "Kanal3               8934\n",
       "Kanal7               8086\n",
       "Kanal2               7498\n",
       "Kanal4               3715\n",
       "Kanal3 + Kanal1      2849\n",
       "Kanal1 + Kanal6      2159\n",
       "Kanal4 + Kanal6       927\n",
       "Kanal3 + Kanal4       254\n",
       "Kanal5                166\n",
       "Online Kanal          136\n",
       "Kanal3 + Kanal6        70\n",
       "Kanal7 + Kanal2        62\n",
       "Kanal3 + Kanal7        59\n",
       "Kanal4 + Kanal7        59\n",
       "Kanal4 + Kanal1        52\n",
       "Name: DAGITIM_KANALI, dtype: int64"
      ]
     },
     "execution_count": 60,
     "metadata": {},
     "output_type": "execute_result"
    }
   ],
   "source": [
    "df.DAGITIM_KANALI.value_counts()"
   ]
  },
  {
   "cell_type": "code",
   "execution_count": 61,
   "id": "1ad843f0",
   "metadata": {},
   "outputs": [
    {
     "data": {
      "text/plain": [
       "6"
      ]
     },
     "execution_count": 61,
     "metadata": {},
     "output_type": "execute_result"
    }
   ],
   "source": [
    "df.DAGITIM_KANALI.isnull().sum()"
   ]
  },
  {
   "cell_type": "code",
   "execution_count": 62,
   "id": "89e60d62",
   "metadata": {},
   "outputs": [
    {
     "data": {
      "image/png": "[encoded data removed]",
      "text/plain": [
       "<Figure size 432x288 with 1 Axes>"
      ]
     },
     "metadata": {
      "needs_background": "light"
     },
     "output_type": "display_data"
    }
   ],
   "source": [
    "sns.histplot(x=\"DAGITIM_KANALI\", data=df);"
   ]
  },
  {
   "cell_type": "markdown",
   "id": "6807337c",
   "metadata": {},
   "source": [
    "## <p style=\"background-color:#9d4f8c; font-family:newtimeroman; color:#FFF9ED; font-size:175%; text-align:center; border-radius:10px 10px;\">POLICE_SEHIR</p>\n",
    "**POLICE_SEHIR**: Sözleşmenin son faturasının gittiği adrese ait şehir."
   ]
  },
  {
   "cell_type": "code",
   "execution_count": 63,
   "id": "e5df1b5a",
   "metadata": {},
   "outputs": [
    {
     "data": {
      "text/plain": [
       "İSTANBUL                           144353\n",
       "ANKARA                              56158\n",
       "İZMİR                               51172\n",
       "ANTALYA                             27031\n",
       "BURSA                               23073\n",
       "                                    ...  \n",
       "ZALTBOMMEL                              1\n",
       "SCHWERTE                                1\n",
       "AAEHEN                                  1\n",
       "Thessaly and Continental Greece         1\n",
       "MÜNSTER                                 1\n",
       "Name: POLICE_SEHIR, Length: 603, dtype: int64"
      ]
     },
     "execution_count": 63,
     "metadata": {},
     "output_type": "execute_result"
    }
   ],
   "source": [
    "df.POLICE_SEHIR.value_counts()"
   ]
  },
  {
   "cell_type": "code",
   "execution_count": 64,
   "id": "293038bc",
   "metadata": {},
   "outputs": [
    {
     "data": {
      "text/plain": [
       "1936"
      ]
     },
     "execution_count": 64,
     "metadata": {},
     "output_type": "execute_result"
    }
   ],
   "source": [
    "df.POLICE_SEHIR.isnull().sum()"
   ]
  },
  {
   "cell_type": "code",
   "execution_count": 68,
   "id": "9186d0b2",
   "metadata": {},
   "outputs": [
    {
     "data": {
      "image/png": "[encoded data removed]",
      "text/plain": [
       "<Figure size 432x288 with 1 Axes>"
      ]
     },
     "metadata": {
      "needs_background": "light"
     },
     "output_type": "display_data"
    }
   ],
   "source": [
    "sns.histplot(x=\"POLICE_SEHIR\", data=df, bins=5);"
   ]
  },
  {
   "cell_type": "markdown",
   "id": "003b7a5b",
   "metadata": {},
   "source": [
    "## <p style=\"background-color:#9d4f8c; font-family:newtimeroman; color:#FFF9ED; font-size:175%; text-align:center; border-radius:10px 10px;\">DOGUM_TARIHI</p>\n",
    "**DOGUM_TARIHI**: Sözleşme sahibinin doğum yılı."
   ]
  },
  {
   "cell_type": "code",
   "execution_count": 69,
   "id": "f35cd427",
   "metadata": {},
   "outputs": [
    {
     "data": {
      "text/plain": [
       "1981    24037\n",
       "1980    23719\n",
       "1979    22886\n",
       "1978    22438\n",
       "1982    22160\n",
       "        ...  \n",
       "1926        3\n",
       "1921        2\n",
       "1922        2\n",
       "1925        2\n",
       "2004        1\n",
       "Name: DOGUM_TARIHI, Length: 82, dtype: int64"
      ]
     },
     "execution_count": 69,
     "metadata": {},
     "output_type": "execute_result"
    }
   ],
   "source": [
    "df.DOGUM_TARIHI.value_counts()"
   ]
  },
  {
   "cell_type": "code",
   "execution_count": 70,
   "id": "3cc50738",
   "metadata": {},
   "outputs": [
    {
     "data": {
      "text/plain": [
       "0"
      ]
     },
     "execution_count": 70,
     "metadata": {},
     "output_type": "execute_result"
    }
   ],
   "source": [
    "df.DOGUM_TARIHI.isnull().sum()"
   ]
  },
  {
   "cell_type": "code",
   "execution_count": 71,
   "id": "edc35e6e",
   "metadata": {},
   "outputs": [
    {
     "data": {
      "image/png": "[encoded data removed]",
      "text/plain": [
       "<Figure size 432x288 with 1 Axes>"
      ]
     },
     "metadata": {
      "needs_background": "light"
     },
     "output_type": "display_data"
    }
   ],
   "source": [
    "sns.histplot(x=\"DOGUM_TARIHI\", data=df);"
   ]
  },
  {
   "cell_type": "markdown",
   "id": "cf33422d",
   "metadata": {},
   "source": [
    "## <p style=\"background-color:#9d4f8c; font-family:newtimeroman; color:#FFF9ED; font-size:175%; text-align:center; border-radius:10px 10px;\">CINSIYET</p>\n",
    "\n",
    "**CINSIYET**: Sözleşme sahibinin cinsiyeti.\n",
    "\n",
    "    1: Erkek\n",
    "    2: Kadın\n",
    "    0: Tüzel"
   ]
  },
  {
   "cell_type": "code",
   "execution_count": 72,
   "id": "7a4646f4",
   "metadata": {},
   "outputs": [
    {
     "data": {
      "text/plain": [
       "2    325140\n",
       "1    308972\n",
       "Name: CINSIYET, dtype: int64"
      ]
     },
     "execution_count": 72,
     "metadata": {},
     "output_type": "execute_result"
    }
   ],
   "source": [
    "df.CINSIYET.value_counts()"
   ]
  },
  {
   "cell_type": "code",
   "execution_count": 73,
   "id": "076cd033",
   "metadata": {},
   "outputs": [
    {
     "data": {
      "text/plain": [
       "0"
      ]
     },
     "execution_count": 73,
     "metadata": {},
     "output_type": "execute_result"
    }
   ],
   "source": [
    "df.CINSIYET.isnull().sum()"
   ]
  },
  {
   "cell_type": "code",
   "execution_count": 76,
   "id": "ec31519c",
   "metadata": {},
   "outputs": [
    {
     "data": {
      "image/png": "[encoded data removed]",
      "text/plain": [
       "<Figure size 432x288 with 1 Axes>"
      ]
     },
     "metadata": {
      "needs_background": "light"
     },
     "output_type": "display_data"
    }
   ],
   "source": [
    "sns.histplot(x=\"CINSIYET\", data=df);"
   ]
  },
  {
   "cell_type": "markdown",
   "id": "88ed39c5",
   "metadata": {},
   "source": [
    "## <p style=\"background-color:#9d4f8c; font-family:newtimeroman; color:#FFF9ED; font-size:175%; text-align:center; border-radius:10px 10px;\">UYRUK</p>\n",
    "**UYRUK**: Sözleşme sahibinin uyruğuna ait olan ülkenin iki harfli ülke kodu."
   ]
  },
  {
   "cell_type": "code",
   "execution_count": 77,
   "id": "f3a720e8",
   "metadata": {},
   "outputs": [
    {
     "data": {
      "text/plain": [
       "TR    630849\n",
       "DE      1486\n",
       "OT       491\n",
       "IR       162\n",
       "AT       147\n",
       "       ...  \n",
       "SA         1\n",
       "CU         1\n",
       "BR         1\n",
       "FI         1\n",
       "TZ         1\n",
       "Name: UYRUK, Length: 80, dtype: int64"
      ]
     },
     "execution_count": 77,
     "metadata": {},
     "output_type": "execute_result"
    }
   ],
   "source": [
    "df.UYRUK.value_counts()"
   ]
  },
  {
   "cell_type": "code",
   "execution_count": 78,
   "id": "34af51ec",
   "metadata": {},
   "outputs": [
    {
     "data": {
      "text/plain": [
       "111"
      ]
     },
     "execution_count": 78,
     "metadata": {},
     "output_type": "execute_result"
    }
   ],
   "source": [
    "df.UYRUK.isnull().sum()"
   ]
  },
  {
   "cell_type": "code",
   "execution_count": 79,
   "id": "24dec38e",
   "metadata": {},
   "outputs": [
    {
     "data": {
      "image/png": "[encoded data removed]",
      "text/plain": [
       "<Figure size 432x288 with 1 Axes>"
      ]
     },
     "metadata": {
      "needs_background": "light"
     },
     "output_type": "display_data"
    }
   ],
   "source": [
    "sns.histplot(x=\"UYRUK\", data=df);"
   ]
  },
  {
   "cell_type": "markdown",
   "id": "9afb7058",
   "metadata": {},
   "source": [
    "## <p style=\"background-color:#9d4f8c; font-family:newtimeroman; color:#FFF9ED; font-size:175%; text-align:center; border-radius:10px 10px;\">MEMLEKET</p>\n",
    "**MEMLEKET**: Sözleşme sahibinin kimlik tipi:\n",
    "\n",
    "    1 : TR\n",
    "    2 : Mavi kart\n",
    "    3 : Yurtdışı"
   ]
  },
  {
   "cell_type": "code",
   "execution_count": 80,
   "id": "8b98740f",
   "metadata": {},
   "outputs": [
    {
     "data": {
      "text/plain": [
       "1    630956\n",
       "2      1803\n",
       "3      1353\n",
       "Name: MEMLEKET, dtype: int64"
      ]
     },
     "execution_count": 80,
     "metadata": {},
     "output_type": "execute_result"
    }
   ],
   "source": [
    "df.MEMLEKET.value_counts()"
   ]
  },
  {
   "cell_type": "code",
   "execution_count": 81,
   "id": "ace3f08f",
   "metadata": {},
   "outputs": [
    {
     "data": {
      "text/plain": [
       "0"
      ]
     },
     "execution_count": 81,
     "metadata": {},
     "output_type": "execute_result"
    }
   ],
   "source": [
    "df.MEMLEKET.isnull().sum()"
   ]
  },
  {
   "cell_type": "code",
   "execution_count": 82,
   "id": "8621695d",
   "metadata": {},
   "outputs": [
    {
     "data": {
      "image/png": "[encoded data removed]",
      "text/plain": [
       "<Figure size 432x288 with 1 Axes>"
      ]
     },
     "metadata": {
      "needs_background": "light"
     },
     "output_type": "display_data"
    }
   ],
   "source": [
    "sns.histplot(df.MEMLEKET);"
   ]
  },
  {
   "cell_type": "markdown",
   "id": "77051b1c",
   "metadata": {},
   "source": [
    "## <p style=\"background-color:#9d4f8c; font-family:newtimeroman; color:#FFF9ED; font-size:175%; text-align:center; border-radius:10px 10px;\">MESLEK</p>\n",
    "**MESLEK**: Sözleşme sahibinin mesleğinin ait olduğu sektörün kodu."
   ]
  },
  {
   "cell_type": "code",
   "execution_count": 83,
   "id": "85560695",
   "metadata": {},
   "outputs": [
    {
     "data": {
      "text/plain": [
       "SEKT032    309717\n",
       "SEKT010     64151\n",
       "SEKT019     33306\n",
       "SEKT004     29732\n",
       "SEKT013     18002\n",
       "SEKT021     10940\n",
       "SEKT007     10877\n",
       "SEKT008     10847\n",
       "SEKT009      9597\n",
       "SEKT011      6813\n",
       "SEKT003      6750\n",
       "SEKT006      6260\n",
       "SEKT012      5660\n",
       "SEKT005      4697\n",
       "SEKT017      4380\n",
       "SEKT025      4283\n",
       "SEKT001      3919\n",
       "SEKT014      3353\n",
       "SEKT020      3223\n",
       "SEKT024      3056\n",
       "SEKT018      2458\n",
       "SEKT016      2455\n",
       "SEKT015      2423\n",
       "SEKT022      2422\n",
       "SEKT028      2085\n",
       "SEKT027      1735\n",
       "SEKT023      1575\n",
       "SEKT002       997\n",
       "SEKT026       641\n",
       "SEKT031       628\n",
       "SEKT029       174\n",
       "SEKT030        96\n",
       "Name: MESLEK, dtype: int64"
      ]
     },
     "execution_count": 83,
     "metadata": {},
     "output_type": "execute_result"
    }
   ],
   "source": [
    "df.MESLEK.value_counts()"
   ]
  },
  {
   "cell_type": "code",
   "execution_count": 84,
   "id": "5c68a821",
   "metadata": {},
   "outputs": [
    {
     "data": {
      "text/plain": [
       "66860"
      ]
     },
     "execution_count": 84,
     "metadata": {},
     "output_type": "execute_result"
    }
   ],
   "source": [
    "df.MESLEK.isnull().sum()"
   ]
  },
  {
   "cell_type": "code",
   "execution_count": 85,
   "id": "539c688b",
   "metadata": {},
   "outputs": [
    {
     "data": {
      "image/png": "[encoded data removed]",
      "text/plain": [
       "<Figure size 432x288 with 1 Axes>"
      ]
     },
     "metadata": {
      "needs_background": "light"
     },
     "output_type": "display_data"
    }
   ],
   "source": [
    "sns.histplot(df.MESLEK);"
   ]
  },
  {
   "cell_type": "markdown",
   "id": "e88bb86f",
   "metadata": {},
   "source": [
    "## <p style=\"background-color:#9d4f8c; font-family:newtimeroman; color:#FFF9ED; font-size:175%; text-align:center; border-radius:10px 10px;\">MESLEK KIRILIM</p>\n",
    "\n",
    "**MESLEK KIRILIM** : Sözleşme sahibinin mesleğini belirten kod."
   ]
  },
  {
   "cell_type": "code",
   "execution_count": 86,
   "id": "e7ab3dca",
   "metadata": {},
   "outputs": [
    {
     "data": {
      "text/plain": [
       "OCCU074    113354\n",
       "OCCU037     95572\n",
       "OCCU006     91405\n",
       "OCCU065     38986\n",
       "OCCU025     33766\n",
       "            ...  \n",
       "OCCU045        19\n",
       "OCCU005        17\n",
       "OCCU046        11\n",
       "OCCU020         9\n",
       "OCCU062         6\n",
       "Name: MESLEK_KIRILIM, Length: 87, dtype: int64"
      ]
     },
     "execution_count": 86,
     "metadata": {},
     "output_type": "execute_result"
    }
   ],
   "source": [
    "df.MESLEK_KIRILIM.value_counts()"
   ]
  },
  {
   "cell_type": "code",
   "execution_count": 87,
   "id": "f750c60d",
   "metadata": {},
   "outputs": [
    {
     "data": {
      "text/plain": [
       "69138"
      ]
     },
     "execution_count": 87,
     "metadata": {},
     "output_type": "execute_result"
    }
   ],
   "source": [
    "df.MESLEK_KIRILIM.isnull().sum()"
   ]
  },
  {
   "cell_type": "code",
   "execution_count": 88,
   "id": "10b35355",
   "metadata": {},
   "outputs": [
    {
     "data": {
      "image/png": "[encoded data removed]",
      "text/plain": [
       "<Figure size 432x288 with 1 Axes>"
      ]
     },
     "metadata": {
      "needs_background": "light"
     },
     "output_type": "display_data"
    }
   ],
   "source": [
    "sns.histplot(df.MESLEK_KIRILIM);"
   ]
  },
  {
   "cell_type": "markdown",
   "id": "725897b1",
   "metadata": {},
   "source": [
    "## <p style=\"background-color:#9d4f8c; font-family:newtimeroman; color:#FFF9ED; font-size:175%; text-align:center; border-radius:10px 10px;\">MUSTERI_SEGMENTI</p>\n",
    "\n",
    "MUSTERI_SEGMENTI: Sözleşme sahibinin müşteri segmenti.\n",
    "\n",
    "    101: A segment\n",
    "    102: B segment\n",
    "    103: C segment\n",
    "    104: D segment\n",
    "    105: E segment\n",
    "    106: F segment"
   ]
  },
  {
   "cell_type": "code",
   "execution_count": 89,
   "id": "5e936838",
   "metadata": {},
   "outputs": [
    {
     "data": {
      "text/plain": [
       "106.0    228320\n",
       "105.0    106226\n",
       "103.0    106033\n",
       "102.0    104744\n",
       "104.0     87072\n",
       "101.0      1714\n",
       "Name: MUSTERI_SEGMENTI, dtype: int64"
      ]
     },
     "execution_count": 89,
     "metadata": {},
     "output_type": "execute_result"
    }
   ],
   "source": [
    "df.MUSTERI_SEGMENTI.value_counts()"
   ]
  },
  {
   "cell_type": "code",
   "execution_count": 90,
   "id": "e7ecc4aa",
   "metadata": {},
   "outputs": [
    {
     "data": {
      "text/plain": [
       "3"
      ]
     },
     "execution_count": 90,
     "metadata": {},
     "output_type": "execute_result"
    }
   ],
   "source": [
    "df.MUSTERI_SEGMENTI.isnull().sum()"
   ]
  },
  {
   "cell_type": "code",
   "execution_count": 91,
   "id": "f72cb282",
   "metadata": {},
   "outputs": [
    {
     "data": {
      "image/png": "[encoded data removed]",
      "text/plain": [
       "<Figure size 432x288 with 1 Axes>"
      ]
     },
     "metadata": {
      "needs_background": "light"
     },
     "output_type": "display_data"
    }
   ],
   "source": [
    "sns.histplot(df.MUSTERI_SEGMENTI);"
   ]
  },
  {
   "cell_type": "markdown",
   "id": "8ca83364",
   "metadata": {},
   "source": [
    "## <p style=\"background-color:#9d4f8c; font-family:newtimeroman; color:#FFF9ED; font-size:175%; text-align:center; border-radius:10px 10px;\">YATIRIM_KARAKTERI</p>\n",
    "\n",
    "**YATIRIM_KARAKTERI**: Anketi cevaplamayı kabul eden Sözleşme sahiplerine ait atanmış yatırım karakteri bilgisi."
   ]
  },
  {
   "cell_type": "code",
   "execution_count": 92,
   "id": "084f188f",
   "metadata": {},
   "outputs": [
    {
     "data": {
      "text/plain": [
       "Dikkatli    21655\n",
       "Cesur       19702\n",
       "Dengeli     18607\n",
       "Bilge        6966\n",
       "Yetkin       4860\n",
       "Temkinli     4069\n",
       "Name: YATIRIM_KARAKTERI, dtype: int64"
      ]
     },
     "execution_count": 92,
     "metadata": {},
     "output_type": "execute_result"
    }
   ],
   "source": [
    "df.YATIRIM_KARAKTERI.value_counts()"
   ]
  },
  {
   "cell_type": "code",
   "execution_count": 93,
   "id": "c8885d01",
   "metadata": {},
   "outputs": [
    {
     "data": {
      "text/plain": [
       "558253"
      ]
     },
     "execution_count": 93,
     "metadata": {},
     "output_type": "execute_result"
    }
   ],
   "source": [
    "df.YATIRIM_KARAKTERI.isnull().sum()"
   ]
  },
  {
   "cell_type": "code",
   "execution_count": 94,
   "id": "f6c33d03",
   "metadata": {},
   "outputs": [
    {
     "data": {
      "image/png": "[encoded data removed]",
      "text/plain": [
       "<Figure size 432x288 with 1 Axes>"
      ]
     },
     "metadata": {
      "needs_background": "light"
     },
     "output_type": "display_data"
    }
   ],
   "source": [
    "sns.histplot(df.YATIRIM_KARAKTERI);"
   ]
  },
  {
   "cell_type": "markdown",
   "id": "68da0c54",
   "metadata": {},
   "source": [
    "## <p style=\"background-color:#9d4f8c; font-family:newtimeroman; color:#FFF9ED; font-size:175%; text-align:center; border-radius:10px 10px;\">EGITIM_DURUM</p>\n",
    "\n",
    "**EGITIM_DURUM**: Anketi cevaplamayı kabul eden Sözleşme sahiplerinin eğitim durumu."
   ]
  },
  {
   "cell_type": "code",
   "execution_count": 95,
   "id": "0af1555c",
   "metadata": {},
   "outputs": [
    {
     "data": {
      "text/plain": [
       "Lise             180144\n",
       "Lisans           171856\n",
       "İlköğretim        55698\n",
       "(Diğer)           42506\n",
       "Yüksek Lisans     18050\n",
       "Önlisans          12958\n",
       "Doktora            3105\n",
       "Name: EGITIM_DURUM, dtype: int64"
      ]
     },
     "execution_count": 95,
     "metadata": {},
     "output_type": "execute_result"
    }
   ],
   "source": [
    "df.EGITIM_DURUM.value_counts()"
   ]
  },
  {
   "cell_type": "code",
   "execution_count": 96,
   "id": "4872e0bc",
   "metadata": {},
   "outputs": [
    {
     "data": {
      "text/plain": [
       "149795"
      ]
     },
     "execution_count": 96,
     "metadata": {},
     "output_type": "execute_result"
    }
   ],
   "source": [
    "df.EGITIM_DURUM.isnull().sum()"
   ]
  },
  {
   "cell_type": "code",
   "execution_count": 97,
   "id": "a8213d4d",
   "metadata": {},
   "outputs": [
    {
     "data": {
      "image/png": "[encoded data removed]",
      "text/plain": [
       "<Figure size 432x288 with 1 Axes>"
      ]
     },
     "metadata": {
      "needs_background": "light"
     },
     "output_type": "display_data"
    }
   ],
   "source": [
    "sns.histplot(df.EGITIM_DURUM);"
   ]
  },
  {
   "cell_type": "markdown",
   "id": "65a7a7ad",
   "metadata": {},
   "source": [
    "## <p style=\"background-color:#9d4f8c; font-family:newtimeroman; color:#FFF9ED; font-size:175%; text-align:center; border-radius:10px 10px;\">GELIR</p>\n",
    "\n",
    "**GELIR**: Anketi cevaplamayı kabul eden Sözleşme sahiplerinin belirttiği aylık gelir bilgisi."
   ]
  },
  {
   "cell_type": "code",
   "execution_count": 98,
   "id": "11b633a6",
   "metadata": {},
   "outputs": [
    {
     "data": {
      "text/plain": [
       "0          110175\n",
       "2000        71966\n",
       "3000        57058\n",
       "1000        48490\n",
       "5000        41195\n",
       "            ...  \n",
       "1657            1\n",
       "3803            1\n",
       "8000000         1\n",
       "8509            1\n",
       "2696            1\n",
       "Name: GELIR, Length: 2209, dtype: int64"
      ]
     },
     "execution_count": 98,
     "metadata": {},
     "output_type": "execute_result"
    }
   ],
   "source": [
    "df.GELIR.value_counts()"
   ]
  },
  {
   "cell_type": "code",
   "execution_count": 99,
   "id": "e045de5c",
   "metadata": {},
   "outputs": [
    {
     "data": {
      "text/plain": [
       "77644"
      ]
     },
     "execution_count": 99,
     "metadata": {},
     "output_type": "execute_result"
    }
   ],
   "source": [
    "df.GELIR.isnull().sum()"
   ]
  },
  {
   "cell_type": "code",
   "execution_count": 101,
   "id": "57023cb9",
   "metadata": {},
   "outputs": [
    {
     "data": {
      "image/png": "[encoded data removed]",
      "text/plain": [
       "<Figure size 432x288 with 1 Axes>"
      ]
     },
     "metadata": {
      "needs_background": "light"
     },
     "output_type": "display_data"
    }
   ],
   "source": [
    "sns.histplot(df.GELIR);"
   ]
  },
  {
   "cell_type": "markdown",
   "id": "dcd4b0ff",
   "metadata": {},
   "source": [
    "## <p style=\"background-color:#9d4f8c; font-family:newtimeroman; color:#FFF9ED; font-size:175%; text-align:center; border-radius:10px 10px;\">COCUK_SAYISI</p>\n",
    "\n",
    "**COCUK_SAYISI**: Anketi cevaplamayı kabul eden Sözleşme sahiplerinin çocuk sayısı."
   ]
  },
  {
   "cell_type": "code",
   "execution_count": 102,
   "id": "7094abb6",
   "metadata": {},
   "outputs": [
    {
     "data": {
      "text/plain": [
       "0.0     486617\n",
       "2.0      12923\n",
       "1.0      11824\n",
       "3.0       3318\n",
       "4.0        886\n",
       "5.0        277\n",
       "6.0         88\n",
       "7.0         41\n",
       "8.0         15\n",
       "10.0         6\n",
       "9.0          4\n",
       "11.0         2\n",
       "20.0         1\n",
       "12.0         1\n",
       "15.0         1\n",
       "Name: COCUK_SAYISI, dtype: int64"
      ]
     },
     "execution_count": 102,
     "metadata": {},
     "output_type": "execute_result"
    }
   ],
   "source": [
    "df.COCUK_SAYISI.value_counts()"
   ]
  },
  {
   "cell_type": "code",
   "execution_count": 103,
   "id": "0de512e0",
   "metadata": {},
   "outputs": [
    {
     "data": {
      "text/plain": [
       "118108"
      ]
     },
     "execution_count": 103,
     "metadata": {},
     "output_type": "execute_result"
    }
   ],
   "source": [
    "df.COCUK_SAYISI.isnull().sum()"
   ]
  },
  {
   "cell_type": "code",
   "execution_count": 104,
   "id": "b16f86de",
   "metadata": {},
   "outputs": [
    {
     "data": {
      "image/png": "[encoded data removed]",
      "text/plain": [
       "<Figure size 432x288 with 1 Axes>"
      ]
     },
     "metadata": {
      "needs_background": "light"
     },
     "output_type": "display_data"
    }
   ],
   "source": [
    "sns.histplot(df.COCUK_SAYISI);"
   ]
  },
  {
   "cell_type": "markdown",
   "id": "0dbdcedf",
   "metadata": {},
   "source": [
    "## <p style=\"background-color:#9d4f8c; font-family:newtimeroman; color:#FFF9ED; font-size:175%; text-align:center; border-radius:10px 10px;\">SENE_BASI_HESAP_DEGERI</p>\n",
    "\n",
    "**SENE_BASI_HESAP_DEGERI**: 2020 senesinin başına ait biriken toplam para miktarı."
   ]
  },
  {
   "cell_type": "code",
   "execution_count": 119,
   "id": "9a0fdc8b",
   "metadata": {},
   "outputs": [
    {
     "data": {
      "text/plain": [
       "0.00        28708\n",
       "0.01          514\n",
       "2570.98       158\n",
       "0.02          132\n",
       "2618.94       110\n",
       "            ...  \n",
       "44979.82        1\n",
       "33492.87        1\n",
       "4535.79         1\n",
       "33007.68        1\n",
       "20958.77        1\n",
       "Name: SENE_BASI_HESAP_DEGERI, Length: 462844, dtype: int64"
      ]
     },
     "execution_count": 119,
     "metadata": {},
     "output_type": "execute_result"
    }
   ],
   "source": [
    "df.SENE_BASI_HESAP_DEGERI.value_counts()"
   ]
  },
  {
   "cell_type": "code",
   "execution_count": 122,
   "id": "d91cff93",
   "metadata": {},
   "outputs": [
    {
     "data": {
      "text/plain": [
       "0"
      ]
     },
     "execution_count": 122,
     "metadata": {},
     "output_type": "execute_result"
    }
   ],
   "source": [
    "df.SENE_BASI_HESAP_DEGERI.isnull().sum()"
   ]
  },
  {
   "cell_type": "code",
   "execution_count": 120,
   "id": "16b223ba",
   "metadata": {},
   "outputs": [
    {
     "data": {
      "image/png": "[encoded data removed]",
      "text/plain": [
       "<Figure size 432x288 with 1 Axes>"
      ]
     },
     "metadata": {
      "needs_background": "light"
     },
     "output_type": "display_data"
    }
   ],
   "source": [
    "sns.histplot(df.SENE_BASI_HESAP_DEGERI);"
   ]
  },
  {
   "cell_type": "markdown",
   "id": "369d0ae3",
   "metadata": {},
   "source": [
    "## <p style=\"background-color:#9d4f8c; font-family:newtimeroman; color:#FFF9ED; font-size:175%; text-align:center; border-radius:10px 10px;\">SENE_SONU_HESAP_DEGERI</p>\n",
    "\n",
    "**SENE_SONU_HESAP_DEGERI**: 2020 senesinin başına ait biriken toplam para miktarı."
   ]
  },
  {
   "cell_type": "code",
   "execution_count": 121,
   "id": "c4c73641",
   "metadata": {},
   "outputs": [
    {
     "data": {
      "text/plain": [
       "0.00         31040\n",
       "0.01           557\n",
       "3751.24        156\n",
       "0.02           138\n",
       "3889.66        110\n",
       "             ...  \n",
       "3228.39          1\n",
       "15967.98         1\n",
       "112740.53        1\n",
       "69238.37         1\n",
       "23038.39         1\n",
       "Name: SENE_SONU_HESAP_DEGERI, Length: 490898, dtype: int64"
      ]
     },
     "execution_count": 121,
     "metadata": {},
     "output_type": "execute_result"
    }
   ],
   "source": [
    "df.SENE_SONU_HESAP_DEGERI.value_counts()"
   ]
  },
  {
   "cell_type": "code",
   "execution_count": 123,
   "id": "98fefc5b",
   "metadata": {},
   "outputs": [
    {
     "data": {
      "text/plain": [
       "0"
      ]
     },
     "execution_count": 123,
     "metadata": {},
     "output_type": "execute_result"
    }
   ],
   "source": [
    "df.SENE_SONU_HESAP_DEGERI.isnull().sum()"
   ]
  },
  {
   "cell_type": "code",
   "execution_count": 124,
   "id": "57796cd5",
   "metadata": {},
   "outputs": [
    {
     "data": {
      "image/png": "[encoded data removed]",
      "text/plain": [
       "<Figure size 432x288 with 1 Axes>"
      ]
     },
     "metadata": {
      "needs_background": "light"
     },
     "output_type": "display_data"
    }
   ],
   "source": [
    "sns.histplot(df.SENE_SONU_HESAP_DEGERI);"
   ]
  },
  {
   "cell_type": "markdown",
   "id": "b85ffced",
   "metadata": {},
   "source": [
    "## <p style=\"background-color:#9d4f8c; font-family:newtimeroman; color:#FFF9ED; font-size:175%; text-align:center; border-radius:10px 10px;\">ARTIS_DURUMU</p>\n",
    "\n",
    "**ARTIS_DURUMU**: Yıl sonundan sonraki çeyrekte (2021 ilk çeyreği) vade tutarında artış yapılıp yapılmadığını belirten sınıf bilgisi."
   ]
  },
  {
   "cell_type": "code",
   "execution_count": 105,
   "id": "6d685507",
   "metadata": {},
   "outputs": [
    {
     "data": {
      "text/plain": [
       "0    578974\n",
       "1     55138\n",
       "Name: ARTIS_DURUMU, dtype: int64"
      ]
     },
     "execution_count": 105,
     "metadata": {},
     "output_type": "execute_result"
    }
   ],
   "source": [
    "df.ARTIS_DURUMU.value_counts()"
   ]
  },
  {
   "cell_type": "code",
   "execution_count": 106,
   "id": "bc841b15",
   "metadata": {},
   "outputs": [
    {
     "data": {
      "text/plain": [
       "0"
      ]
     },
     "execution_count": 106,
     "metadata": {},
     "output_type": "execute_result"
    }
   ],
   "source": [
    "df.ARTIS_DURUMU.isnull().sum()"
   ]
  },
  {
   "cell_type": "code",
   "execution_count": 107,
   "id": "db5b523d",
   "metadata": {},
   "outputs": [
    {
     "data": {
      "image/png": "[encoded data removed]",
      "text/plain": [
       "<Figure size 432x288 with 1 Axes>"
      ]
     },
     "metadata": {
      "needs_background": "light"
     },
     "output_type": "display_data"
    }
   ],
   "source": [
    "sns.histplot(df.ARTIS_DURUMU);"
   ]
  },
  {
   "cell_type": "code",
   "execution_count": 114,
   "id": "1bb31dec",
   "metadata": {},
   "outputs": [
    {
     "data": {
      "text/plain": [
       "578974"
      ]
     },
     "execution_count": 114,
     "metadata": {},
     "output_type": "execute_result"
    }
   ],
   "source": [
    "len(df[df.ARTIS_DURUMU == 0])"
   ]
  },
  {
   "cell_type": "code",
   "execution_count": 117,
   "id": "065cd447",
   "metadata": {},
   "outputs": [
    {
     "data": {
      "text/plain": [
       "55138"
      ]
     },
     "execution_count": 117,
     "metadata": {},
     "output_type": "execute_result"
    }
   ],
   "source": [
    "len(df[df.ARTIS_DURUMU == 1])"
   ]
  },
  {
   "cell_type": "code",
   "execution_count": 115,
   "id": "3382b43e",
   "metadata": {},
   "outputs": [
    {
     "data": {
      "text/plain": [
       "634112"
      ]
     },
     "execution_count": 115,
     "metadata": {},
     "output_type": "execute_result"
    }
   ],
   "source": [
    "len(df)"
   ]
  },
  {
   "cell_type": "code",
   "execution_count": 116,
   "id": "aad36387",
   "metadata": {},
   "outputs": [
    {
     "data": {
      "text/plain": [
       "0.08695309345983045"
      ]
     },
     "execution_count": 116,
     "metadata": {},
     "output_type": "execute_result"
    }
   ],
   "source": [
    "len(df[df.ARTIS_DURUMU == 1]) / len(df)"
   ]
  },
  {
   "cell_type": "code",
   "execution_count": 118,
   "id": "c776605c",
   "metadata": {},
   "outputs": [
    {
     "data": {
      "text/plain": [
       "0.9130469065401695"
      ]
     },
     "execution_count": 118,
     "metadata": {},
     "output_type": "execute_result"
    }
   ],
   "source": [
    "len(df[df.ARTIS_DURUMU == 0]) / len(df)"
   ]
  },
  {
   "cell_type": "markdown",
   "id": "697e908a",
   "metadata": {},
   "source": [
    "## <p style=\"background-color:#9d4f8c; font-family:newtimeroman; color:#FFF9ED; font-size:175%; text-align:center; border-radius:10px 10px;\">Other</p>"
   ]
  },
  {
   "cell_type": "code",
   "execution_count": null,
   "id": "00618d01",
   "metadata": {},
   "outputs": [],
   "source": []
  },
  {
   "cell_type": "code",
   "execution_count": 5,
   "id": "6a3c80fd",
   "metadata": {},
   "outputs": [
    {
     "data": {
      "text/plain": [
       "144668    (Diğer)\n",
       "272219        NaN\n",
       "259454        NaN\n",
       "525743     Lisans\n",
       "73152      Lisans\n",
       "331734     Lisans\n",
       "17283      Lisans\n",
       "608763       Lise\n",
       "444336        NaN\n",
       "357731       Lise\n",
       "Name: EGITIM_DURUM, dtype: object"
      ]
     },
     "execution_count": 5,
     "metadata": {},
     "output_type": "execute_result"
    }
   ],
   "source": [
    "df.EGITIM_DURUM.sample(10)"
   ]
  },
  {
   "cell_type": "code",
   "execution_count": null,
   "id": "10226fb9",
   "metadata": {},
   "outputs": [],
   "source": []
  },
  {
   "cell_type": "code",
   "execution_count": 6,
   "id": "556fc885",
   "metadata": {},
   "outputs": [
    {
     "data": {
      "text/plain": [
       "Lise             180144\n",
       "Lisans           171856\n",
       "İlköğretim        55698\n",
       "(Diğer)           42506\n",
       "Yüksek Lisans     18050\n",
       "Önlisans          12958\n",
       "Doktora            3105\n",
       "Name: EGITIM_DURUM, dtype: int64"
      ]
     },
     "execution_count": 6,
     "metadata": {},
     "output_type": "execute_result"
    }
   ],
   "source": [
    "df.EGITIM_DURUM.value_counts()"
   ]
  },
  {
   "cell_type": "code",
   "execution_count": 7,
   "id": "759044a5",
   "metadata": {},
   "outputs": [
    {
     "data": {
      "text/plain": [
       "array(['Lisans', nan, 'Lise', 'İlköğretim', 'Önlisans', 'Yüksek Lisans',\n",
       "       'Doktora', '(Diğer)'], dtype=object)"
      ]
     },
     "execution_count": 7,
     "metadata": {},
     "output_type": "execute_result"
    }
   ],
   "source": [
    "df.EGITIM_DURUM.unique()"
   ]
  },
  {
   "cell_type": "code",
   "execution_count": 22,
   "id": "a94191eb",
   "metadata": {},
   "outputs": [
    {
     "data": {
      "text/html": [
       "<div>\n",
       "<style scoped>\n",
       "    .dataframe tbody tr th:only-of-type {\n",
       "        vertical-align: middle;\n",
       "    }\n",
       "\n",
       "    .dataframe tbody tr th {\n",
       "        vertical-align: top;\n",
       "    }\n",
       "\n",
       "    .dataframe thead th {\n",
       "        text-align: right;\n",
       "    }\n",
       "</style>\n",
       "<table border=\"1\" class=\"dataframe\">\n",
       "  <thead>\n",
       "    <tr style=\"text-align: right;\">\n",
       "      <th></th>\n",
       "      <th>POLICY_ID</th>\n",
       "      <th>OFFICE_ID</th>\n",
       "      <th>SIGORTA_TIP</th>\n",
       "      <th>SOZLESME_KOKENI</th>\n",
       "      <th>SOZLESME_KOKENI_DETAY</th>\n",
       "      <th>BASLANGIC_TARIHI</th>\n",
       "      <th>KAPSAM_TIPI</th>\n",
       "      <th>KAPSAM_GRUBU</th>\n",
       "      <th>DAGITIM_KANALI</th>\n",
       "      <th>POLICE_SEHIR</th>\n",
       "      <th>...</th>\n",
       "      <th>EYLUL_VADE_TUTARI</th>\n",
       "      <th>EKIM_ODENEN_TUTAR</th>\n",
       "      <th>EKIM_VADE_TUTARI</th>\n",
       "      <th>KASIM_ODENEN_TUTAR</th>\n",
       "      <th>KASIM_VADE_TUTARI</th>\n",
       "      <th>ARALIK_ODENEN_TUTAR</th>\n",
       "      <th>ARALIK_VADE_TUTARI</th>\n",
       "      <th>SENE_BASI_HESAP_DEGERI</th>\n",
       "      <th>SENE_SONU_HESAP_DEGERI</th>\n",
       "      <th>ARTIS_DURUMU</th>\n",
       "    </tr>\n",
       "  </thead>\n",
       "  <tbody>\n",
       "    <tr>\n",
       "      <th>1</th>\n",
       "      <td>2857821</td>\n",
       "      <td>10100</td>\n",
       "      <td>7</td>\n",
       "      <td>NEW</td>\n",
       "      <td>NEW</td>\n",
       "      <td>2016-09</td>\n",
       "      <td>PENSION419</td>\n",
       "      <td>KATILIM STD BİREYSEL</td>\n",
       "      <td>Kanal4 + Kanal2</td>\n",
       "      <td>BALIKESİR</td>\n",
       "      <td>...</td>\n",
       "      <td>160.0</td>\n",
       "      <td>160</td>\n",
       "      <td>160.0</td>\n",
       "      <td>160</td>\n",
       "      <td>160.0</td>\n",
       "      <td>160</td>\n",
       "      <td>160.0</td>\n",
       "      <td>5842.71</td>\n",
       "      <td>10104.56</td>\n",
       "      <td>0</td>\n",
       "    </tr>\n",
       "    <tr>\n",
       "      <th>2</th>\n",
       "      <td>7833031</td>\n",
       "      <td>10042</td>\n",
       "      <td>1</td>\n",
       "      <td>NEW</td>\n",
       "      <td>NEW</td>\n",
       "      <td>2016-07</td>\n",
       "      <td>PENSION250</td>\n",
       "      <td>EV HANIMI</td>\n",
       "      <td>Kanal4 + Kanal2</td>\n",
       "      <td>BALIKESİR</td>\n",
       "      <td>...</td>\n",
       "      <td>256.0</td>\n",
       "      <td>256</td>\n",
       "      <td>256.0</td>\n",
       "      <td>256</td>\n",
       "      <td>256.0</td>\n",
       "      <td>256</td>\n",
       "      <td>256.0</td>\n",
       "      <td>3782.86</td>\n",
       "      <td>7060.94</td>\n",
       "      <td>0</td>\n",
       "    </tr>\n",
       "    <tr>\n",
       "      <th>6</th>\n",
       "      <td>8167943</td>\n",
       "      <td>10006</td>\n",
       "      <td>8</td>\n",
       "      <td>NEW</td>\n",
       "      <td>NEW</td>\n",
       "      <td>2018-12</td>\n",
       "      <td>PENSION329</td>\n",
       "      <td>OKS</td>\n",
       "      <td>Kanal4 + Kanal2</td>\n",
       "      <td>İSTANBUL</td>\n",
       "      <td>...</td>\n",
       "      <td>120.0</td>\n",
       "      <td>0</td>\n",
       "      <td>120.0</td>\n",
       "      <td>0</td>\n",
       "      <td>120.0</td>\n",
       "      <td>0</td>\n",
       "      <td>120.0</td>\n",
       "      <td>407.26</td>\n",
       "      <td>462.37</td>\n",
       "      <td>0</td>\n",
       "    </tr>\n",
       "    <tr>\n",
       "      <th>7</th>\n",
       "      <td>2420140</td>\n",
       "      <td>10213</td>\n",
       "      <td>1</td>\n",
       "      <td>NEW</td>\n",
       "      <td>NEW</td>\n",
       "      <td>2015-12</td>\n",
       "      <td>PENSION194</td>\n",
       "      <td>EV HANIMI</td>\n",
       "      <td>Kanal4 + Kanal2</td>\n",
       "      <td>NaN</td>\n",
       "      <td>...</td>\n",
       "      <td>430.0</td>\n",
       "      <td>430</td>\n",
       "      <td>430.0</td>\n",
       "      <td>430</td>\n",
       "      <td>430.0</td>\n",
       "      <td>430</td>\n",
       "      <td>430.0</td>\n",
       "      <td>19800.67</td>\n",
       "      <td>26823.51</td>\n",
       "      <td>0</td>\n",
       "    </tr>\n",
       "    <tr>\n",
       "      <th>8</th>\n",
       "      <td>5548250</td>\n",
       "      <td>10222</td>\n",
       "      <td>1</td>\n",
       "      <td>NEW</td>\n",
       "      <td>NEW</td>\n",
       "      <td>2017-01</td>\n",
       "      <td>PENSION250</td>\n",
       "      <td>EV HANIMI</td>\n",
       "      <td>Kanal4 + Kanal2</td>\n",
       "      <td>NEVŞEHİR</td>\n",
       "      <td>...</td>\n",
       "      <td>280.0</td>\n",
       "      <td>280</td>\n",
       "      <td>280.0</td>\n",
       "      <td>280</td>\n",
       "      <td>280.0</td>\n",
       "      <td>280</td>\n",
       "      <td>280.0</td>\n",
       "      <td>9333.31</td>\n",
       "      <td>13690.83</td>\n",
       "      <td>0</td>\n",
       "    </tr>\n",
       "    <tr>\n",
       "      <th>...</th>\n",
       "      <td>...</td>\n",
       "      <td>...</td>\n",
       "      <td>...</td>\n",
       "      <td>...</td>\n",
       "      <td>...</td>\n",
       "      <td>...</td>\n",
       "      <td>...</td>\n",
       "      <td>...</td>\n",
       "      <td>...</td>\n",
       "      <td>...</td>\n",
       "      <td>...</td>\n",
       "      <td>...</td>\n",
       "      <td>...</td>\n",
       "      <td>...</td>\n",
       "      <td>...</td>\n",
       "      <td>...</td>\n",
       "      <td>...</td>\n",
       "      <td>...</td>\n",
       "      <td>...</td>\n",
       "      <td>...</td>\n",
       "      <td>...</td>\n",
       "    </tr>\n",
       "    <tr>\n",
       "      <th>634085</th>\n",
       "      <td>7976327</td>\n",
       "      <td>10167</td>\n",
       "      <td>1</td>\n",
       "      <td>NEW</td>\n",
       "      <td>NEW</td>\n",
       "      <td>2016-11</td>\n",
       "      <td>PENSION247</td>\n",
       "      <td>GRUPLANMAMIŞ</td>\n",
       "      <td>Kanal4 + Kanal2</td>\n",
       "      <td>İSTANBUL</td>\n",
       "      <td>...</td>\n",
       "      <td>220.0</td>\n",
       "      <td>0</td>\n",
       "      <td>220.0</td>\n",
       "      <td>0</td>\n",
       "      <td>220.0</td>\n",
       "      <td>0</td>\n",
       "      <td>220.0</td>\n",
       "      <td>1200.26</td>\n",
       "      <td>972.89</td>\n",
       "      <td>0</td>\n",
       "    </tr>\n",
       "    <tr>\n",
       "      <th>634087</th>\n",
       "      <td>8606126</td>\n",
       "      <td>11462</td>\n",
       "      <td>1</td>\n",
       "      <td>TRANS_C</td>\n",
       "      <td>TRANS</td>\n",
       "      <td>2016-08</td>\n",
       "      <td>PENSION251</td>\n",
       "      <td>GRUPLANMAMIŞ</td>\n",
       "      <td>Kanal4 + Kanal2</td>\n",
       "      <td>ANKARA</td>\n",
       "      <td>...</td>\n",
       "      <td>940.0</td>\n",
       "      <td>940</td>\n",
       "      <td>940.0</td>\n",
       "      <td>940</td>\n",
       "      <td>940.0</td>\n",
       "      <td>940</td>\n",
       "      <td>940.0</td>\n",
       "      <td>110085.27</td>\n",
       "      <td>147693.76</td>\n",
       "      <td>0</td>\n",
       "    </tr>\n",
       "    <tr>\n",
       "      <th>634098</th>\n",
       "      <td>6690989</td>\n",
       "      <td>11128</td>\n",
       "      <td>1</td>\n",
       "      <td>NEW</td>\n",
       "      <td>NEW</td>\n",
       "      <td>2016-05</td>\n",
       "      <td>PENSION247</td>\n",
       "      <td>GRUPLANMAMIŞ</td>\n",
       "      <td>Kanal4 + Kanal2</td>\n",
       "      <td>KONYA</td>\n",
       "      <td>...</td>\n",
       "      <td>220.0</td>\n",
       "      <td>220</td>\n",
       "      <td>220.0</td>\n",
       "      <td>220</td>\n",
       "      <td>220.0</td>\n",
       "      <td>220</td>\n",
       "      <td>220.0</td>\n",
       "      <td>8245.06</td>\n",
       "      <td>11344.46</td>\n",
       "      <td>0</td>\n",
       "    </tr>\n",
       "    <tr>\n",
       "      <th>634105</th>\n",
       "      <td>9822641</td>\n",
       "      <td>11274</td>\n",
       "      <td>1</td>\n",
       "      <td>NEW</td>\n",
       "      <td>NEW</td>\n",
       "      <td>2009-04</td>\n",
       "      <td>PENSION001</td>\n",
       "      <td>GRUPLANMAMIŞ</td>\n",
       "      <td>Kanal4 + Kanal2</td>\n",
       "      <td>İSTANBUL</td>\n",
       "      <td>...</td>\n",
       "      <td>340.0</td>\n",
       "      <td>0</td>\n",
       "      <td>340.0</td>\n",
       "      <td>0</td>\n",
       "      <td>340.0</td>\n",
       "      <td>0</td>\n",
       "      <td>340.0</td>\n",
       "      <td>142.07</td>\n",
       "      <td>152.25</td>\n",
       "      <td>0</td>\n",
       "    </tr>\n",
       "    <tr>\n",
       "      <th>634110</th>\n",
       "      <td>5443282</td>\n",
       "      <td>10348</td>\n",
       "      <td>1</td>\n",
       "      <td>NEW</td>\n",
       "      <td>NEW</td>\n",
       "      <td>2014-05</td>\n",
       "      <td>PENSION215</td>\n",
       "      <td>GRUPLANMAMIŞ</td>\n",
       "      <td>Kanal4 + Kanal2</td>\n",
       "      <td>MERSİN</td>\n",
       "      <td>...</td>\n",
       "      <td>170.0</td>\n",
       "      <td>0</td>\n",
       "      <td>170.0</td>\n",
       "      <td>0</td>\n",
       "      <td>170.0</td>\n",
       "      <td>0</td>\n",
       "      <td>170.0</td>\n",
       "      <td>122.63</td>\n",
       "      <td>133.85</td>\n",
       "      <td>0</td>\n",
       "    </tr>\n",
       "  </tbody>\n",
       "</table>\n",
       "<p>149795 rows × 49 columns</p>\n",
       "</div>"
      ],
      "text/plain": [
       "        POLICY_ID  OFFICE_ID  SIGORTA_TIP SOZLESME_KOKENI  \\\n",
       "1         2857821      10100            7             NEW   \n",
       "2         7833031      10042            1             NEW   \n",
       "6         8167943      10006            8             NEW   \n",
       "7         2420140      10213            1             NEW   \n",
       "8         5548250      10222            1             NEW   \n",
       "...           ...        ...          ...             ...   \n",
       "634085    7976327      10167            1             NEW   \n",
       "634087    8606126      11462            1         TRANS_C   \n",
       "634098    6690989      11128            1             NEW   \n",
       "634105    9822641      11274            1             NEW   \n",
       "634110    5443282      10348            1             NEW   \n",
       "\n",
       "       SOZLESME_KOKENI_DETAY BASLANGIC_TARIHI KAPSAM_TIPI  \\\n",
       "1                        NEW          2016-09  PENSION419   \n",
       "2                        NEW          2016-07  PENSION250   \n",
       "6                        NEW          2018-12  PENSION329   \n",
       "7                        NEW          2015-12  PENSION194   \n",
       "8                        NEW          2017-01  PENSION250   \n",
       "...                      ...              ...         ...   \n",
       "634085                   NEW          2016-11  PENSION247   \n",
       "634087                 TRANS          2016-08  PENSION251   \n",
       "634098                   NEW          2016-05  PENSION247   \n",
       "634105                   NEW          2009-04  PENSION001   \n",
       "634110                   NEW          2014-05  PENSION215   \n",
       "\n",
       "                KAPSAM_GRUBU   DAGITIM_KANALI POLICE_SEHIR  ...  \\\n",
       "1       KATILIM STD BİREYSEL  Kanal4 + Kanal2    BALIKESİR  ...   \n",
       "2                  EV HANIMI  Kanal4 + Kanal2    BALIKESİR  ...   \n",
       "6                        OKS  Kanal4 + Kanal2     İSTANBUL  ...   \n",
       "7                  EV HANIMI  Kanal4 + Kanal2          NaN  ...   \n",
       "8                  EV HANIMI  Kanal4 + Kanal2     NEVŞEHİR  ...   \n",
       "...                      ...              ...          ...  ...   \n",
       "634085          GRUPLANMAMIŞ  Kanal4 + Kanal2     İSTANBUL  ...   \n",
       "634087          GRUPLANMAMIŞ  Kanal4 + Kanal2       ANKARA  ...   \n",
       "634098          GRUPLANMAMIŞ  Kanal4 + Kanal2        KONYA  ...   \n",
       "634105          GRUPLANMAMIŞ  Kanal4 + Kanal2     İSTANBUL  ...   \n",
       "634110          GRUPLANMAMIŞ  Kanal4 + Kanal2       MERSİN  ...   \n",
       "\n",
       "        EYLUL_VADE_TUTARI  EKIM_ODENEN_TUTAR EKIM_VADE_TUTARI  \\\n",
       "1                   160.0                160            160.0   \n",
       "2                   256.0                256            256.0   \n",
       "6                   120.0                  0            120.0   \n",
       "7                   430.0                430            430.0   \n",
       "8                   280.0                280            280.0   \n",
       "...                   ...                ...              ...   \n",
       "634085              220.0                  0            220.0   \n",
       "634087              940.0                940            940.0   \n",
       "634098              220.0                220            220.0   \n",
       "634105              340.0                  0            340.0   \n",
       "634110              170.0                  0            170.0   \n",
       "\n",
       "        KASIM_ODENEN_TUTAR KASIM_VADE_TUTARI ARALIK_ODENEN_TUTAR  \\\n",
       "1                      160             160.0                 160   \n",
       "2                      256             256.0                 256   \n",
       "6                        0             120.0                   0   \n",
       "7                      430             430.0                 430   \n",
       "8                      280             280.0                 280   \n",
       "...                    ...               ...                 ...   \n",
       "634085                   0             220.0                   0   \n",
       "634087                 940             940.0                 940   \n",
       "634098                 220             220.0                 220   \n",
       "634105                   0             340.0                   0   \n",
       "634110                   0             170.0                   0   \n",
       "\n",
       "        ARALIK_VADE_TUTARI SENE_BASI_HESAP_DEGERI SENE_SONU_HESAP_DEGERI  \\\n",
       "1                    160.0                5842.71               10104.56   \n",
       "2                    256.0                3782.86                7060.94   \n",
       "6                    120.0                 407.26                 462.37   \n",
       "7                    430.0               19800.67               26823.51   \n",
       "8                    280.0                9333.31               13690.83   \n",
       "...                    ...                    ...                    ...   \n",
       "634085               220.0                1200.26                 972.89   \n",
       "634087               940.0              110085.27              147693.76   \n",
       "634098               220.0                8245.06               11344.46   \n",
       "634105               340.0                 142.07                 152.25   \n",
       "634110               170.0                 122.63                 133.85   \n",
       "\n",
       "       ARTIS_DURUMU  \n",
       "1                 0  \n",
       "2                 0  \n",
       "6                 0  \n",
       "7                 0  \n",
       "8                 0  \n",
       "...             ...  \n",
       "634085            0  \n",
       "634087            0  \n",
       "634098            0  \n",
       "634105            0  \n",
       "634110            0  \n",
       "\n",
       "[149795 rows x 49 columns]"
      ]
     },
     "execution_count": 22,
     "metadata": {},
     "output_type": "execute_result"
    }
   ],
   "source": [
    "df[df.EGITIM_DURUM.isnull()]"
   ]
  },
  {
   "cell_type": "code",
   "execution_count": 25,
   "id": "8022e114",
   "metadata": {},
   "outputs": [
    {
     "data": {
      "text/plain": [
       "0    142140\n",
       "1      7655\n",
       "Name: ARTIS_DURUMU, dtype: int64"
      ]
     },
     "execution_count": 25,
     "metadata": {},
     "output_type": "execute_result"
    }
   ],
   "source": [
    "df[df.EGITIM_DURUM.isnull()][\"ARTIS_DURUMU\"].value_counts()"
   ]
  },
  {
   "cell_type": "code",
   "execution_count": 110,
   "id": "b5de5f79",
   "metadata": {},
   "outputs": [
    {
     "data": {
      "text/plain": [
       "Index(['POLICY_ID', 'OFFICE_ID', 'SIGORTA_TIP', 'SOZLESME_KOKENI',\n",
       "       'SOZLESME_KOKENI_DETAY', 'BASLANGIC_TARIHI', 'KAPSAM_TIPI',\n",
       "       'KAPSAM_GRUBU', 'DAGITIM_KANALI', 'POLICE_SEHIR', 'DOGUM_TARIHI',\n",
       "       'CINSIYET', 'UYRUK', 'MEMLEKET', 'MESLEK', 'MESLEK_KIRILIM',\n",
       "       'MUSTERI_SEGMENTI', 'YATIRIM_KARAKTERI', 'MEDENI_HAL', 'EGITIM_DURUM',\n",
       "       'GELIR', 'COCUK_SAYISI', 'OCAK_ODENEN_TUTAR', 'OCAK_VADE_TUTARI',\n",
       "       'SUBAT_ODENEN_TU', 'SUBAT_VADE_TUTARI', 'MART_ODENEN_TUTAR',\n",
       "       'MART_VADE_TUTARI', 'NISAN_ODENEN_TUTAR', 'NISAN_VADE_TUTARI',\n",
       "       'MAYIS_ODENEN_TUTAR', 'MAYIS_VADE_TUTARI', 'HAZIRAN_ODENEN_TUTAR',\n",
       "       'HAZIRAN_VADE_TUTARI', 'TEMMUZ_ODENEN_TUTAR', 'TEMMUZ_VADE_TUTARI',\n",
       "       'AGUSTOS_ODENEN_TUTAR', 'AGUSTOS_VADE_TUTARI', 'EYLUL_ODENEN_TUTAR',\n",
       "       'EYLUL_VADE_TUTARI', 'EKIM_ODENEN_TUTAR', 'EKIM_VADE_TUTARI',\n",
       "       'KASIM_ODENEN_TUTAR', 'KASIM_VADE_TUTARI', 'ARALIK_ODENEN_TUTAR',\n",
       "       'ARALIK_VADE_TUTARI', 'SENE_BASI_HESAP_DEGERI',\n",
       "       'SENE_SONU_HESAP_DEGERI', 'ARTIS_DURUMU'],\n",
       "      dtype='object')"
      ]
     },
     "execution_count": 110,
     "metadata": {},
     "output_type": "execute_result"
    }
   ],
   "source": [
    "df.columns"
   ]
  },
  {
   "cell_type": "code",
   "execution_count": 16,
   "id": "21a37ccb",
   "metadata": {},
   "outputs": [
    {
     "data": {
      "image/png": "[encoded data removed]",
      "text/plain": [
       "<Figure size 432x288 with 1 Axes>"
      ]
     },
     "metadata": {
      "needs_background": "light"
     },
     "output_type": "display_data"
    }
   ],
   "source": [
    "sns.histplot(x=\"EGITIM_DURUM\", data=df, bins=100);"
   ]
  },
  {
   "cell_type": "code",
   "execution_count": 9,
   "id": "a118c2ed",
   "metadata": {},
   "outputs": [
    {
     "data": {
      "text/plain": [
       "SIGORTA_TIP  EGITIM_DURUM \n",
       "1            Lise             146280\n",
       "             Lisans            99448\n",
       "             İlköğretim        48010\n",
       "             (Diğer)           34202\n",
       "             Yüksek Lisans      9394\n",
       "             Önlisans           8636\n",
       "             Doktora            1414\n",
       "4            Lisans              363\n",
       "             Yüksek Lisans        76\n",
       "             Lise                 28\n",
       "             Önlisans             17\n",
       "             (Diğer)               5\n",
       "             İlköğretim            3\n",
       "             Doktora               1\n",
       "6            Lisans             4779\n",
       "             Lise               2994\n",
       "             İlköğretim         1222\n",
       "             (Diğer)             813\n",
       "             Önlisans            762\n",
       "             Yüksek Lisans       729\n",
       "             Doktora              23\n",
       "7            Lisans            67134\n",
       "             Lise              30786\n",
       "             Yüksek Lisans      7826\n",
       "             (Diğer)            7412\n",
       "             İlköğretim         6453\n",
       "             Önlisans           3505\n",
       "             Doktora            1664\n",
       "8            Lisans              132\n",
       "             (Diğer)              74\n",
       "             Lise                 56\n",
       "             Önlisans             38\n",
       "             Yüksek Lisans        25\n",
       "             İlköğretim           10\n",
       "             Doktora               3\n",
       "Name: EGITIM_DURUM, dtype: int64"
      ]
     },
     "execution_count": 9,
     "metadata": {},
     "output_type": "execute_result"
    }
   ],
   "source": [
    "df.groupby(\"SIGORTA_TIP\")[\"EGITIM_DURUM\"].value_counts()"
   ]
  },
  {
   "cell_type": "code",
   "execution_count": null,
   "id": "02f36b41",
   "metadata": {},
   "outputs": [],
   "source": []
  }
 ],
 "metadata": {
  "kernelspec": {
   "display_name": "Python 3 (ipykernel)",
   "language": "python",
   "name": "python3"
  },
  "language_info": {
   "codemirror_mode": {
    "name": "ipython",
    "version": 3
   },
   "file_extension": ".py",
   "mimetype": "text/x-python",
   "name": "python",
   "nbconvert_exporter": "python",
   "pygments_lexer": "ipython3",
   "version": "3.9.7"
  }
 },
 "nbformat": 4,
 "nbformat_minor": 5
}
